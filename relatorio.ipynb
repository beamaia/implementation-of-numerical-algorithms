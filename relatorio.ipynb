{
 "cells": [
  {
   "cell_type": "code",
   "execution_count": 54,
   "id": "1ed668e3",
   "metadata": {},
   "outputs": [],
   "source": [
    "f1 = @(t,x1,x2) (-8/5)*x1 + (3/10)*x2;\n",
    "f2 = @(t,x1,x2) (8/5)*x1 - (4/5)*x2;"
   ]
  },
  {
   "cell_type": "code",
   "execution_count": 55,
   "id": "2f37f50f",
   "metadata": {
    "scrolled": true
   },
   "outputs": [
    {
     "name": "stdout",
     "output_type": "stream",
     "text": [
      "x1_0 = 0\n",
      "x2_0 =  12\n"
     ]
    }
   ],
   "source": [
    "x1_0 = 0\n",
    "x2_0 = 12"
   ]
  },
  {
   "cell_type": "code",
   "execution_count": 56,
   "id": "f42e2c26",
   "metadata": {
    "scrolled": false
   },
   "outputs": [
    {
     "name": "stdout",
     "output_type": "stream",
     "text": [
      "a = 0\n",
      "b =  14\n",
      "h =  1\n"
     ]
    }
   ],
   "source": [
    "a = 0\n",
    "b = 14\n",
    "h = 1"
   ]
  },
  {
   "cell_type": "code",
   "execution_count": 101,
   "id": "8c93454d",
   "metadata": {},
   "outputs": [],
   "source": [
    "function [t,y1,y2] = rk4Sistema(f1, f2, a, b, h, y1_0, y2_0)\n",
    "    t = a:h:b\n",
    "    n = length(t)\n",
    "    y1(1) = y1_0\n",
    "    y2(1) = y2_0\n",
    "    for i = 1:n-1\n",
    "        k1y1 = f1(t(i), y1(i), y2(i))\n",
    "        k1y2 = f2(t(i), y1(i), y2(i))\n",
    "\n",
    "        k2y1 = f1(t(i)+h/2, y1(i) + k1y1*h/2, y2(i) + k1y2*h/2)\n",
    "        k2y2 = f2(t(i)+h/2, y1(i) + k1y1*h/2, y2(i) + k1y2*h/2)\n",
    "\n",
    "        k3y1 = f1(t(i)+h/2, y1(i) + k2y1*h/2, y2(i) + k2y2*h/2)\n",
    "        k3y2 = f2(t(i)+h/2, y1(i) + k2y1*h/2, y2(i) + k2y2*h/2)\n",
    "\n",
    "        k4y1 = f1(t(i)+h, y1(i) + k3y1*h, y2(i) + k3y2*h)\n",
    "        k4y2 = f2(t(i)+h, y1(i) + k3y2*h, y2(i) + k3y2*h)\n",
    "\n",
    "        ky1 = (k1y1 + 2*k2y1 + 2*k3y1 + k4y1)/6\n",
    "        ky2 = (k1y2 + 2*k2y2 + 2*k3y2 + k4y2)/6\n",
    "        \n",
    "        y1(i+1) = y1(i) + ky1*h;\n",
    "        y2(i+1) = y2(i) + ky2*h;\n",
    "    end\n",
    "endfunction"
   ]
  },
  {
   "cell_type": "code",
   "execution_count": 102,
   "id": "1e3accb3",
   "metadata": {
    "scrolled": true
   },
   "outputs": [
    {
     "name": "stdout",
     "output_type": "stream",
     "text": [
      "t =\r\n",
      "\r\n",
      "    0    1    2    3    4    5    6    7    8    9   10   11   12   13   14\r\n",
      "\r\n",
      "n =  15\r\n",
      "y1 = 0\r\n",
      "y2 =  12\r\n",
      "k1y1 =  3.6000\r\n",
      "k1y2 = -9.6000\r\n",
      "k2y1 = -0.72000\r\n",
      "k2y2 = -2.8800\r\n",
      "k3y1 =  3.7440\r\n",
      "k3y2 = -9.0240\r\n",
      "k4y1 = -5.0976\r\n",
      "k4y2 = -16.819\r\n",
      "ky1 =  0.75840\r\n",
      "ky2 = -8.3712\r\n",
      "k1y1 = -0.12480\r\n",
      "k1y2 = -1.6896\r\n",
      "k2y1 = -0.27840\r\n",
      "k2y2 = -1.1136\r\n",
      "k3y1 = -0.069120\r\n",
      "k3y2 = -1.4669\r\n",
      "k4y1 = -0.45427\r\n",
      "k4y2 = -2.8631\r\n",
      "ky1 = -0.21235\r\n",
      "ky2 = -1.6189\r\n",
      "k1y1 = -0.27072\r\n",
      "k1y2 = -0.73421\r\n",
      "k2y1 = -0.16428\r\n",
      "k2y2 = -0.65710\r\n",
      "k3y1 = -0.23786\r\n",
      "k3y2 = -0.60279\r\n",
      "k4y1 = -0.070972\r\n",
      "k4y2 = -1.2164\r\n",
      "ky1 = -0.19100\r\n",
      "ky2 = -0.74507\r\n",
      "k1y1 = -0.18865\r\n",
      "k1y2 = -0.44374\r\n",
      "k2y1 = -0.10429\r\n",
      "k2y2 = -0.41717\r\n",
      "k3y1 = -0.16779\r\n",
      "k3y2 = -0.36031\r\n",
      "k4y1 = -0.028278\r\n",
      "k4y2 = -0.73199\r\n",
      "ky1 = -0.12685\r\n",
      "ky2 = -0.45512\r\n",
      "k1y1 = -0.12223\r\n",
      "k1y2 = -0.28261\r\n",
      "k2y1 = -0.066837\r\n",
      "k2y2 = -0.26735\r\n",
      "k3y1 = -0.10886\r\n",
      "k3y2 = -0.22914\r\n",
      "k4y1 = -0.016794\r\n",
      "k4y2 = -0.46592\r\n",
      "ky1 = -0.081735\r\n",
      "ky2 = -0.29025\r\n",
      "k1y1 = -0.078525\r\n",
      "k1y2 = -0.18118\r\n",
      "k2y1 = -0.042883\r\n",
      "k2y2 = -0.17153\r\n",
      "k3y1 = -0.069948\r\n",
      "k3y2 = -0.14688\r\n",
      "k4y1 = -0.010671\r\n",
      "k4y2 = -0.29869\r\n",
      "ky1 = -0.052476\r\n",
      "ky2 = -0.18612\r\n",
      "k1y1 = -0.050397\r\n",
      "k1y2 = -0.11625\r\n",
      "k2y1 = -0.027518\r\n",
      "k2y2 = -0.11007\r\n",
      "k3y1 = -0.044894\r\n",
      "k3y2 = -0.094241\r\n",
      "k4y1 = -0.0068395\r\n",
      "k4y2 = -0.19165\r\n",
      "ky1 = -0.033677\r\n",
      "ky2 = -0.11942\r\n",
      "k1y1 = -0.032341\r\n",
      "k1y2 = -0.074601\r\n",
      "k2y1 = -0.017658\r\n",
      "k2y2 = -0.070633\r\n",
      "k3y1 = -0.028809\r\n",
      "k3y2 = -0.060474\r\n",
      "k4y1 = -0.0043883\r\n",
      "k4y2 = -0.12298\r\n",
      "ky1 = -0.021611\r\n",
      "ky2 = -0.076633\r\n",
      "k1y1 = -0.020754\r\n",
      "k1y2 = -0.047872\r\n",
      "k2y1 = -0.011331\r\n",
      "k2y2 = -0.045326\r\n",
      "k3y1 = -0.018487\r\n",
      "k3y2 = -0.038807\r\n",
      "k4y1 = -0.0028160\r\n",
      "k4y2 = -0.078917\r\n",
      "ky1 = -0.013868\r\n",
      "ky2 = -0.049176\r\n",
      "k1y1 = -0.013318\r\n",
      "k1y2 = -0.030720\r\n",
      "k2y1 = -0.0072715\r\n",
      "k2y2 = -0.029086\r\n",
      "k3y1 = -0.011863\r\n",
      "k3y2 = -0.024903\r\n",
      "k4y1 = -0.0018070\r\n",
      "k4y2 = -0.050642\r\n",
      "ky1 = -0.0088991\r\n",
      "ky2 = -0.031557\r\n",
      "k1y1 = -0.0085461\r\n",
      "k1y2 = -0.019713\r\n",
      "k2y1 = -0.0046662\r\n",
      "k2y2 = -0.018665\r\n",
      "k3y1 = -0.0076129\r\n",
      "k3y2 = -0.015980\r\n",
      "k4y1 = -0.0011596\r\n",
      "k4y2 = -0.032497\r\n",
      "ky1 = -0.0057106\r\n",
      "ky2 = -0.020250\r\n",
      "k1y1 = -0.0054841\r\n",
      "k1y2 = -0.012650\r\n",
      "k2y1 = -0.0029943\r\n",
      "k2y2 = -0.011977\r\n",
      "k3y1 = -0.0048853\r\n",
      "k3y2 = -0.010255\r\n",
      "k4y1 = -0.00074412\r\n",
      "k4y2 = -0.020854\r\n",
      "ky1 = -0.0036646\r\n",
      "ky2 = -0.012995\r\n",
      "k1y1 = -0.0035192\r\n",
      "k1y2 = -0.0081177\r\n",
      "k2y1 = -0.0019215\r\n",
      "k2y2 = -0.0076860\r\n",
      "k3y1 = -0.0031349\r\n",
      "k3y2 = -0.0065805\r\n",
      "k4y1 = -0.00047751\r\n",
      "k4y2 = -0.013382\r\n",
      "ky1 = -0.0023516\r\n",
      "ky2 = -0.0083388\r\n",
      "k1y1 = -0.0022583\r\n",
      "k1y2 = -0.0052092\r\n",
      "k2y1 = -0.0012330\r\n",
      "k2y2 = -0.0049322\r\n",
      "k3y1 = -0.0020117\r\n",
      "k3y2 = -0.0042228\r\n",
      "k4y1 = -0.00030642\r\n",
      "k4y2 = -0.0085874\r\n",
      "ky1 = -0.0015090\r\n",
      "ky2 = -0.0053511\r\n",
      "t =\r\n",
      "\r\n",
      "    0    1    2    3    4    5    6    7    8    9   10   11   12   13   14\r\n",
      "\r\n",
      "x1 =\r\n",
      "\r\n",
      " Columns 1 through 8:\r\n",
      "\r\n",
      "   0.00000   0.75840   0.54605   0.35505   0.22820   0.14647   0.09399   0.06032\r\n",
      "\r\n",
      " Columns 9 through 15:\r\n",
      "\r\n",
      "   0.03871   0.02484   0.01594   0.01023   0.00656   0.00421   0.00270\r\n",
      "\r\n",
      "x2 =\r\n",
      "\r\n",
      " Columns 1 through 6:\r\n",
      "\r\n",
      "   12.0000000    3.6288000    2.0098560    1.2647854    0.8096703    0.5194198\r\n",
      "\r\n",
      " Columns 7 through 12:\r\n",
      "\r\n",
      "    0.3333044    0.2138835    0.1372509    0.0880752    0.0565186    0.0362685\r\n",
      "\r\n",
      " Columns 13 through 15:\r\n",
      "\r\n",
      "    0.0232738    0.0149350    0.0095839\r\n",
      "\r\n"
     ]
    }
   ],
   "source": [
    "[t, x1, x2] = rk4Sistema(f1, f2, a, b, h, x1_0, x2_0)"
   ]
  },
  {
   "cell_type": "code",
   "execution_count": 103,
   "id": "a0e2d4d9",
   "metadata": {},
   "outputs": [
    {
     "name": "stdout",
     "output_type": "stream",
     "text": [
      "t =\r\n",
      "\r\n",
      "    0    1    2    3    4    5    6    7    8    9   10   11   12   13   14\r\n",
      "\r\n"
     ]
    }
   ],
   "source": [
    "t"
   ]
  },
  {
   "cell_type": "code",
   "execution_count": 104,
   "id": "faebac25",
   "metadata": {},
   "outputs": [
    {
     "name": "stdout",
     "output_type": "stream",
     "text": [
      "x1 =\r\n",
      "\r\n",
      " Columns 1 through 8:\r\n",
      "\r\n",
      "   0.00000   0.75840   0.54605   0.35505   0.22820   0.14647   0.09399   0.06032\r\n",
      "\r\n",
      " Columns 9 through 15:\r\n",
      "\r\n",
      "   0.03871   0.02484   0.01594   0.01023   0.00656   0.00421   0.00270\r\n",
      "\r\n"
     ]
    }
   ],
   "source": [
    "x1"
   ]
  },
  {
   "cell_type": "code",
   "execution_count": 105,
   "id": "bf5ee73b",
   "metadata": {},
   "outputs": [
    {
     "name": "stdout",
     "output_type": "stream",
     "text": [
      "x2 =\r\n",
      "\r\n",
      " Columns 1 through 6:\r\n",
      "\r\n",
      "   12.0000000    3.6288000    2.0098560    1.2647854    0.8096703    0.5194198\r\n",
      "\r\n",
      " Columns 7 through 12:\r\n",
      "\r\n",
      "    0.3333044    0.2138835    0.1372509    0.0880752    0.0565186    0.0362685\r\n",
      "\r\n",
      " Columns 13 through 15:\r\n",
      "\r\n",
      "    0.0232738    0.0149350    0.0095839\r\n",
      "\r\n"
     ]
    }
   ],
   "source": [
    "x2"
   ]
  },
  {
   "cell_type": "code",
   "execution_count": 106,
   "id": "ae712909",
   "metadata": {},
   "outputs": [
    {
     "data": {
      "image/png": "[encoded data removed]",
      "text/plain": [
       "<IPython.core.display.Image object>"
      ]
     },
     "metadata": {},
     "output_type": "display_data"
    }
   ],
   "source": [
    "plot(t,x1)\n",
    "hold on\n",
    "plot(t,x2)"
   ]
  },
  {
   "cell_type": "code",
   "execution_count": 107,
   "id": "ab7a495d",
   "metadata": {},
   "outputs": [
    {
     "name": "stdout",
     "output_type": "stream",
     "text": [
      "x1 =\r\n",
      "\r\n",
      " Columns 1 through 8:\r\n",
      "\r\n",
      "   0.00000   0.75840   0.54605   0.35505   0.22820   0.14647   0.09399   0.06032\r\n",
      "\r\n",
      " Columns 9 through 15:\r\n",
      "\r\n",
      "   0.03871   0.02484   0.01594   0.01023   0.00656   0.00421   0.00270\r\n",
      "\r\n"
     ]
    }
   ],
   "source": [
    "x1"
   ]
  },
  {
   "cell_type": "code",
   "execution_count": 108,
   "id": "e5ab1475",
   "metadata": {},
   "outputs": [
    {
     "name": "stdout",
     "output_type": "stream",
     "text": [
      "h =  1\n",
      "t =\n",
      "\n",
      "    0    1    2    3    4    5    6    7    8    9   10   11   12   13   14\n",
      "\n",
      "x0 =\n",
      "\n",
      "    0   12\n",
      "\n",
      "x0 =\n",
      "\n",
      "    0   12\n",
      "\n"
     ]
    }
   ],
   "source": [
    "h = 1\n",
    "t = [a:h:b]\n",
    "x0(1) = 0\n",
    "x0(2) = 12"
   ]
  },
  {
   "cell_type": "code",
   "execution_count": 109,
   "id": "c78780c0",
   "metadata": {},
   "outputs": [],
   "source": [
    "function xdash = f(y,x)\n",
    "    xdash(1) = (-8/5)*y(1) + (3/10)*y(2);\n",
    "    xdash(2) = (8/5)*y(1) - (4/5)*y(2);\n",
    "end"
   ]
  },
  {
   "cell_type": "code",
   "execution_count": 110,
   "id": "6bb1f477",
   "metadata": {},
   "outputs": [
    {
     "name": "stdout",
     "output_type": "stream",
     "text": [
      "x =\r\n",
      "\r\n",
      "    0.00000   12.00000\r\n",
      "    1.20372    6.43889\r\n",
      "    0.96978    4.09891\r\n",
      "    0.67211    2.71818\r\n",
      "    0.45351    1.81808\r\n",
      "    0.30440    1.21815\r\n",
      "    0.20410    0.81648\r\n",
      "    0.13682    0.54729\r\n",
      "    0.09171    0.36686\r\n",
      "    0.06148    0.24591\r\n",
      "    0.04121    0.16484\r\n",
      "    0.02762    0.11050\r\n",
      "    0.01852    0.07407\r\n",
      "    0.01241    0.04965\r\n",
      "    0.00832    0.03328\r\n",
      "\r\n"
     ]
    }
   ],
   "source": [
    "x = lsode(\"f\", x0, t)"
   ]
  },
  {
   "cell_type": "code",
   "execution_count": 115,
   "id": "2fdf4f71",
   "metadata": {},
   "outputs": [
    {
     "data": {
      "image/png": "[encoded data removed]",
      "text/plain": [
       "<IPython.core.display.Image object>"
      ]
     },
     "metadata": {},
     "output_type": "display_data"
    }
   ],
   "source": [
    "plot(t,x(:,1),t,x(:,2),t,x1',t,x2')\n",
    "hold on\n",
    "legend(\"x1 lsode\", \"x2 lsode\", \"x1\", \"x2\")"
   ]
  },
  {
   "cell_type": "code",
   "execution_count": 112,
   "id": "7c9c8468",
   "metadata": {},
   "outputs": [
    {
     "name": "stdout",
     "output_type": "stream",
     "text": [
      "x =\r\n",
      "\r\n",
      "    0.00000   12.00000\r\n",
      "    1.20372    6.43889\r\n",
      "    0.96978    4.09891\r\n",
      "    0.67211    2.71818\r\n",
      "    0.45351    1.81808\r\n",
      "    0.30440    1.21815\r\n",
      "    0.20410    0.81648\r\n",
      "    0.13682    0.54729\r\n",
      "    0.09171    0.36686\r\n",
      "    0.06148    0.24591\r\n",
      "    0.04121    0.16484\r\n",
      "    0.02762    0.11050\r\n",
      "    0.01852    0.07407\r\n",
      "    0.01241    0.04965\r\n",
      "    0.00832    0.03328\r\n",
      "\r\n"
     ]
    }
   ],
   "source": [
    "x"
   ]
  },
  {
   "cell_type": "code",
   "execution_count": 113,
   "id": "324eedad",
   "metadata": {},
   "outputs": [
    {
     "name": "stdout",
     "output_type": "stream",
     "text": [
      "ans =\r\n",
      "\r\n",
      "    0.00000   12.00000\r\n",
      "    0.75840    3.62880\r\n",
      "    0.54605    2.00986\r\n",
      "    0.35505    1.26479\r\n",
      "    0.22820    0.80967\r\n",
      "    0.14647    0.51942\r\n",
      "    0.09399    0.33330\r\n",
      "    0.06032    0.21388\r\n",
      "    0.03871    0.13725\r\n",
      "    0.02484    0.08808\r\n",
      "    0.01594    0.05652\r\n",
      "    0.01023    0.03627\r\n",
      "    0.00656    0.02327\r\n",
      "    0.00421    0.01494\r\n",
      "    0.00270    0.00958\r\n",
      "\r\n"
     ]
    }
   ],
   "source": [
    "[x1',x2']"
   ]
  },
  {
   "cell_type": "code",
   "execution_count": 88,
   "id": "b5a915d9",
   "metadata": {},
   "outputs": [
    {
     "name": "stdout",
     "output_type": "stream",
     "text": [
      "ans =\r\n",
      "\r\n",
      "   12.000000\r\n",
      "    6.438886\r\n",
      "    4.098908\r\n",
      "    2.718184\r\n",
      "    1.818075\r\n",
      "    1.218154\r\n",
      "    0.816480\r\n",
      "    0.547293\r\n",
      "    0.366860\r\n",
      "    0.245914\r\n",
      "    0.164841\r\n",
      "    0.110496\r\n",
      "    0.074068\r\n",
      "    0.049649\r\n",
      "    0.033281\r\n",
      "\r\n"
     ]
    }
   ],
   "source": [
    "x(:,2)"
   ]
  },
  {
   "cell_type": "code",
   "execution_count": 89,
   "id": "3f344ad3",
   "metadata": {},
   "outputs": [
    {
     "name": "stdout",
     "output_type": "stream",
     "text": [
      "x2 =\r\n",
      "\r\n",
      " Columns 1 through 8:\r\n",
      "\r\n",
      "   12.0000    7.0336    9.3447    8.1335    8.8323    8.4022    8.6772    8.4978\r\n",
      "\r\n",
      " Columns 9 through 15:\r\n",
      "\r\n",
      "    8.6161    8.5376    8.5898    8.5551    8.5782    8.5628    8.5731\r\n",
      "\r\n"
     ]
    }
   ],
   "source": [
    "x2"
   ]
  },
  {
   "cell_type": "code",
   "execution_count": null,
   "id": "7e9ba49b",
   "metadata": {},
   "outputs": [],
   "source": []
  }
 ],
 "metadata": {
  "kernelspec": {
   "display_name": "Octave",
   "language": "octave",
   "name": "octave"
  },
  "language_info": {
   "file_extension": ".m",
   "help_links": [
    {
     "text": "GNU Octave",
     "url": "https://www.gnu.org/software/octave/support.html"
    },
    {
     "text": "Octave Kernel",
     "url": "https://github.com/Calysto/octave_kernel"
    },
    {
     "text": "MetaKernel Magics",
     "url": "https://metakernel.readthedocs.io/en/latest/source/README.html"
    }
   ],
   "mimetype": "text/x-octave",
   "name": "octave",
   "version": "5.2.0"
  }
 },
 "nbformat": 4,
 "nbformat_minor": 5
}
